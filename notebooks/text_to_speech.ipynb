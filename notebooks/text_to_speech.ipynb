{
 "cells": [
  {
   "cell_type": "markdown",
   "id": "4aeaf399",
   "metadata": {},
   "source": [
    "# Text-to-speech"
   ]
  },
  {
   "cell_type": "markdown",
   "id": "0084dc87",
   "metadata": {},
   "source": [
    "Define `AZURE_SPEECH_KEY`, `AZURE_SPEECH_REGION`, `LANGUAGE`, `SHORT_LANGUAGE`:"
   ]
  },
  {
   "cell_type": "code",
   "execution_count": 1,
   "id": "330ff309",
   "metadata": {},
   "outputs": [],
   "source": [
    "exec(open('../instance/config.py').read())"
   ]
  },
  {
   "cell_type": "markdown",
   "id": "f66476ff",
   "metadata": {},
   "source": [
    "## Azure Speech"
   ]
  },
  {
   "cell_type": "markdown",
   "id": "8b5ff1a5",
   "metadata": {},
   "source": [
    "[Text-to-speech quickstart](https://learn.microsoft.com/en-us/azure/cognitive-services/speech-service/get-started-text-to-speech?pivots=programming-language-python)"
   ]
  },
  {
   "cell_type": "code",
   "execution_count": 2,
   "id": "a08fc9af",
   "metadata": {},
   "outputs": [],
   "source": [
    "# !pip install azure-cognitiveservices-speech"
   ]
  },
  {
   "cell_type": "code",
   "execution_count": 3,
   "id": "390d9e95",
   "metadata": {},
   "outputs": [],
   "source": [
    "import azure.cognitiveservices.speech as speechsdk"
   ]
  },
  {
   "cell_type": "code",
   "execution_count": 4,
   "id": "7da56d8c",
   "metadata": {},
   "outputs": [],
   "source": [
    "def text_to_speech(text):\n",
    "    speech_config = speechsdk.SpeechConfig(subscription=AZURE_SPEECH_KEY, region=AZURE_SPEECH_REGION)\n",
    "    audio_config = speechsdk.audio.AudioOutputConfig(use_default_speaker=True)\n",
    "\n",
    "    speech_config.speech_synthesis_voice_name = 'fr-FR-HenriNeural'\n",
    "\n",
    "    speech_synthesizer = speechsdk.SpeechSynthesizer(speech_config=speech_config, audio_config=audio_config)\n",
    "\n",
    "    speech_synthesis_result = speech_synthesizer.speak_text_async(text).get()\n",
    "\n",
    "    if speech_synthesis_result.reason == speechsdk.ResultReason.SynthesizingAudioCompleted:\n",
    "        print('Speech synthesized for text [{}]'.format(text))\n",
    "    elif speech_synthesis_result.reason == speechsdk.ResultReason.Canceled:\n",
    "        cancellation_details = speech_synthesis_result.cancellation_details\n",
    "        print('Speech synthesis canceled: {}'.format(cancellation_details.reason))\n",
    "        if cancellation_details.reason == speechsdk.CancellationReason.Error:\n",
    "            if cancellation_details.error_details:\n",
    "                print('Error details: {}'.format(cancellation_details.error_details))\n",
    "                print('Did you set the speech resource key and region values?')"
   ]
  },
  {
   "cell_type": "code",
   "execution_count": 5,
   "id": "4761ccf3",
   "metadata": {},
   "outputs": [
    {
     "name": "stdout",
     "output_type": "stream",
     "text": [
      "Speech synthesized for text [2 fois X plus 3 égale 5.]\n"
     ]
    }
   ],
   "source": [
    "text_to_speech('2 fois X plus 3 égale 5.')"
   ]
  },
  {
   "cell_type": "code",
   "execution_count": 6,
   "id": "12b18cc2",
   "metadata": {},
   "outputs": [
    {
     "name": "stdout",
     "output_type": "stream",
     "text": [
      "Speech synthesized for text [2 x + 3 = 5]\n"
     ]
    }
   ],
   "source": [
    "text_to_speech('2 x + 3 = 5')"
   ]
  }
 ],
 "metadata": {
  "kernelspec": {
   "display_name": "Python 3 (ipykernel)",
   "language": "python",
   "name": "python3"
  },
  "language_info": {
   "codemirror_mode": {
    "name": "ipython",
    "version": 3
   },
   "file_extension": ".py",
   "mimetype": "text/x-python",
   "name": "python",
   "nbconvert_exporter": "python",
   "pygments_lexer": "ipython3",
   "version": "3.10.8"
  }
 },
 "nbformat": 4,
 "nbformat_minor": 5
}
