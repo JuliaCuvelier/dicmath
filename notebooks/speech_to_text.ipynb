{
 "cells": [
  {
   "cell_type": "markdown",
   "id": "4aeaf399",
   "metadata": {},
   "source": [
    "# Speech-to-text"
   ]
  },
  {
   "cell_type": "code",
   "execution_count": 1,
   "id": "40e6ae47",
   "metadata": {},
   "outputs": [],
   "source": [
    "# !pip install azure-cognitiveservices-speech"
   ]
  },
  {
   "cell_type": "code",
   "execution_count": 2,
   "id": "8984e4cc",
   "metadata": {},
   "outputs": [],
   "source": [
    "import os\n",
    "import string\n",
    "\n",
    "import azure.cognitiveservices.speech as speechsdk"
   ]
  },
  {
   "cell_type": "code",
   "execution_count": 3,
   "id": "578948ba",
   "metadata": {},
   "outputs": [],
   "source": [
    "# Define 'SPEECH_KEY' and 'SPEECH_REGION'\n",
    "exec(open('../instance/config.py').read())"
   ]
  },
  {
   "cell_type": "markdown",
   "id": "bb1059fd",
   "metadata": {},
   "source": [
    "## Documentation"
   ]
  },
  {
   "cell_type": "markdown",
   "id": "bf1dfaf6",
   "metadata": {},
   "source": [
    "[Speech-to-text quickstart](https://learn.microsoft.com/en-us/azure/cognitive-services/speech-service/get-started-speech-to-text?pivots=programming-language-python)"
   ]
  },
  {
   "cell_type": "code",
   "execution_count": 4,
   "id": "3ec5dd2d",
   "metadata": {},
   "outputs": [],
   "source": [
    "def recognize_from_microphone():\n",
    "    # This example requires variables named 'SPEECH_KEY' and 'SPEECH_REGION'\n",
    "    speech_config = speechsdk.SpeechConfig(subscription=SPEECH_KEY, region=SPEECH_REGION)\n",
    "    speech_config.speech_recognition_language='fr-FR'\n",
    "\n",
    "    audio_config = speechsdk.audio.AudioConfig(use_default_microphone=True)\n",
    "    speech_recognizer = speechsdk.SpeechRecognizer(speech_config=speech_config, audio_config=audio_config)\n",
    "\n",
    "    print('Speak into your microphone.')\n",
    "    speech_recognition_result = speech_recognizer.recognize_once_async().get()\n",
    "\n",
    "    if speech_recognition_result.reason == speechsdk.ResultReason.RecognizedSpeech:\n",
    "        print('Recognized: {}'.format(speech_recognition_result.text))\n",
    "    elif speech_recognition_result.reason == speechsdk.ResultReason.NoMatch:\n",
    "        print('No speech could be recognized: {}'.format(speech_recognition_result.no_match_details))\n",
    "    elif speech_recognition_result.reason == speechsdk.ResultReason.Canceled:\n",
    "        cancellation_details = speech_recognition_result.cancellation_details\n",
    "        print('Speech Recognition canceled: {}'.format(cancellation_details.reason))\n",
    "        if cancellation_details.reason == speechsdk.CancellationReason.Error:\n",
    "            print('Error details: {}'.format(cancellation_details.error_details))\n",
    "            print('Did you set the speech resource key and region values?')"
   ]
  },
  {
   "cell_type": "code",
   "execution_count": 5,
   "id": "b3cc5e77",
   "metadata": {},
   "outputs": [
    {
     "name": "stdout",
     "output_type": "stream",
     "text": [
      "Speak into your microphone.\n",
      "Recognized: Test de la reconnaissance vocale.\n"
     ]
    }
   ],
   "source": [
    "recognize_from_microphone()"
   ]
  },
  {
   "cell_type": "markdown",
   "id": "2aa0f783",
   "metadata": {},
   "source": [
    "## Implementation"
   ]
  },
  {
   "cell_type": "code",
   "execution_count": 6,
   "id": "da1b57af",
   "metadata": {},
   "outputs": [],
   "source": [
    "def speech_to_text():\n",
    "    speech_config = speechsdk.SpeechConfig(subscription=SPEECH_KEY, region=SPEECH_REGION)\n",
    "    speech_config.speech_recognition_language=\"fr-FR\"\n",
    "\n",
    "    audio_config = speechsdk.audio.AudioConfig(use_default_microphone=True)\n",
    "    speech_recognizer = speechsdk.SpeechRecognizer(speech_config=speech_config, audio_config=audio_config)\n",
    "\n",
    "    print(\"Speak into your microphone.\")\n",
    "    speech_recognition_result = speech_recognizer.recognize_once_async().get()\n",
    "\n",
    "    if speech_recognition_result.reason == speechsdk.ResultReason.RecognizedSpeech:\n",
    "        return speech_recognition_result.text"
   ]
  },
  {
   "cell_type": "code",
   "execution_count": 7,
   "id": "e40cc57f",
   "metadata": {},
   "outputs": [
    {
     "name": "stdout",
     "output_type": "stream",
     "text": [
      "Speak into your microphone.\n"
     ]
    },
    {
     "data": {
      "text/plain": [
       "'X au carré égale 4.'"
      ]
     },
     "execution_count": 7,
     "metadata": {},
     "output_type": "execute_result"
    }
   ],
   "source": [
    "text = speech_to_text()\n",
    "text"
   ]
  },
  {
   "cell_type": "code",
   "execution_count": 8,
   "id": "d4f6a59e",
   "metadata": {},
   "outputs": [],
   "source": [
    "# Remove punctuation (only , and .)\n",
    "text = text.translate(str.maketrans('', '', ',.'))"
   ]
  },
  {
   "cell_type": "code",
   "execution_count": 9,
   "id": "f5ec4b06",
   "metadata": {},
   "outputs": [],
   "source": [
    "mapping = {\n",
    "    'au': '',\n",
    "    'carré': '^ 2',\n",
    "    'cube': '^ 3',\n",
    "    'égale': '=',\n",
    "    'fois': '*',\n",
    "    'moins': ',',\n",
    "    'ou': '',\n",
    "    'plus': '+',\n",
    "    'puissance': '^'\n",
    "}"
   ]
  },
  {
   "cell_type": "code",
   "execution_count": 10,
   "id": "a109c196",
   "metadata": {},
   "outputs": [
    {
     "data": {
      "text/plain": [
       "'X  ^ 2 = 4'"
      ]
     },
     "execution_count": 10,
     "metadata": {},
     "output_type": "execute_result"
    }
   ],
   "source": [
    "L = text.split()\n",
    "for i in range(len(L)):\n",
    "    if L[i].lower() in mapping:\n",
    "        L[i] = mapping[L[i].lower()] \n",
    "\n",
    "new_text = ' '.join(L)\n",
    "new_text"
   ]
  }
 ],
 "metadata": {
  "kernelspec": {
   "display_name": "Python 3 (ipykernel)",
   "language": "python",
   "name": "python3"
  },
  "language_info": {
   "codemirror_mode": {
    "name": "ipython",
    "version": 3
   },
   "file_extension": ".py",
   "mimetype": "text/x-python",
   "name": "python",
   "nbconvert_exporter": "python",
   "pygments_lexer": "ipython3",
   "version": "3.10.8"
  }
 },
 "nbformat": 4,
 "nbformat_minor": 5
}
