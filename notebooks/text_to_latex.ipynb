{
 "cells": [
  {
   "cell_type": "markdown",
   "id": "23a824a3",
   "metadata": {},
   "source": [
    "# Text-to-LaTeX"
   ]
  },
  {
   "cell_type": "code",
   "execution_count": 1,
   "id": "68c3387a",
   "metadata": {},
   "outputs": [],
   "source": [
    "# !pip install pylatex"
   ]
  },
  {
   "cell_type": "code",
   "execution_count": 2,
   "id": "436826bf",
   "metadata": {},
   "outputs": [],
   "source": [
    "from pylatex import Document, Math"
   ]
  },
  {
   "cell_type": "code",
   "execution_count": 3,
   "id": "e2f44289",
   "metadata": {},
   "outputs": [],
   "source": [
    "eq = ['2X ^ 2', '=', '8']"
   ]
  },
  {
   "cell_type": "code",
   "execution_count": 4,
   "id": "d312695f",
   "metadata": {},
   "outputs": [],
   "source": [
    "geometry_options = {\"tmargin\": \"1cm\", \"lmargin\": \"10cm\"}\n",
    "doc = Document(geometry_options=geometry_options)\n",
    "doc.append(Math(data=eq, escape=False))\n",
    "doc.generate_pdf('test')"
   ]
  }
 ],
 "metadata": {
  "kernelspec": {
   "display_name": "Python 3 (ipykernel)",
   "language": "python",
   "name": "python3"
  },
  "language_info": {
   "codemirror_mode": {
    "name": "ipython",
    "version": 3
   },
   "file_extension": ".py",
   "mimetype": "text/x-python",
   "name": "python",
   "nbconvert_exporter": "python",
   "pygments_lexer": "ipython3",
   "version": "3.10.9"
  }
 },
 "nbformat": 4,
 "nbformat_minor": 5
}
