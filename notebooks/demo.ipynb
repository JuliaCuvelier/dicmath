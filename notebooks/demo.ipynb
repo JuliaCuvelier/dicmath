{
 "cells": [
  {
   "cell_type": "markdown",
   "id": "3d761cb6",
   "metadata": {},
   "source": [
    "# Demo"
   ]
  },
  {
   "cell_type": "markdown",
   "id": "ee960b72",
   "metadata": {},
   "source": [
    "### Setup"
   ]
  },
  {
   "cell_type": "code",
   "execution_count": 1,
   "id": "4b552310",
   "metadata": {},
   "outputs": [],
   "source": [
    "# !pip install azure-cognitiveservices-speech"
   ]
  },
  {
   "cell_type": "code",
   "execution_count": 2,
   "id": "2879a480",
   "metadata": {},
   "outputs": [],
   "source": [
    "import azure.cognitiveservices.speech as speechsdk"
   ]
  },
  {
   "cell_type": "markdown",
   "id": "0084dc87",
   "metadata": {},
   "source": [
    "Define `AZURE_SPEECH_KEY`, `AZURE_SPEECH_REGION`, `LANGUAGE`:"
   ]
  },
  {
   "cell_type": "code",
   "execution_count": 3,
   "id": "330ff309",
   "metadata": {},
   "outputs": [],
   "source": [
    "exec(open('../instance/config.py').read())"
   ]
  },
  {
   "cell_type": "markdown",
   "id": "63e13151",
   "metadata": {},
   "source": [
    "### Speech-to-text"
   ]
  },
  {
   "cell_type": "code",
   "execution_count": 4,
   "id": "f8274a1a",
   "metadata": {},
   "outputs": [],
   "source": [
    "def speech_to_text():\n",
    "    speech_config = speechsdk.SpeechConfig(subscription=AZURE_SPEECH_KEY, region=AZURE_SPEECH_REGION)\n",
    "    speech_config.speech_recognition_language = LANGUAGE\n",
    "\n",
    "    audio_config = speechsdk.audio.AudioConfig(use_default_microphone=True)\n",
    "    speech_recognizer = speechsdk.SpeechRecognizer(speech_config=speech_config, audio_config=audio_config)\n",
    "\n",
    "    print('Speak into your microphone.')\n",
    "    speech_recognition_result = speech_recognizer.recognize_once_async().get()\n",
    "\n",
    "    if speech_recognition_result.reason == speechsdk.ResultReason.RecognizedSpeech:\n",
    "        return speech_recognition_result.text\n",
    "    elif speech_recognition_result.reason == speechsdk.ResultReason.NoMatch:\n",
    "        print('No speech could be recognized: {}'.format(speech_recognition_result.no_match_details))\n",
    "    elif speech_recognition_result.reason == speechsdk.ResultReason.Canceled:\n",
    "        cancellation_details = speech_recognition_result.cancellation_details\n",
    "        print('Speech Recognition canceled: {}'.format(cancellation_details.reason))\n",
    "        if cancellation_details.reason == speechsdk.CancellationReason.Error:\n",
    "            print('Error details: {}'.format(cancellation_details.error_details))\n",
    "            print('Did you set the speech resource key and region values?')"
   ]
  },
  {
   "cell_type": "markdown",
   "id": "c302aea5",
   "metadata": {},
   "source": [
    "### Text-to-speech"
   ]
  },
  {
   "cell_type": "code",
   "execution_count": 5,
   "id": "364049fd",
   "metadata": {},
   "outputs": [],
   "source": [
    "def text_to_speech(text):\n",
    "    speech_config = speechsdk.SpeechConfig(subscription=AZURE_SPEECH_KEY, region=AZURE_SPEECH_REGION)\n",
    "    audio_config = speechsdk.audio.AudioOutputConfig(use_default_speaker=True)\n",
    "\n",
    "    speech_config.speech_synthesis_voice_name = 'fr-FR-HenriNeural'\n",
    "\n",
    "    speech_synthesizer = speechsdk.SpeechSynthesizer(speech_config=speech_config, audio_config=audio_config)\n",
    "\n",
    "    speech_synthesis_result = speech_synthesizer.speak_text_async(text).get()\n",
    "\n",
    "    if speech_synthesis_result.reason == speechsdk.ResultReason.SynthesizingAudioCompleted:\n",
    "        print('Speech synthesized for text [{}]'.format(text))\n",
    "    elif speech_synthesis_result.reason == speechsdk.ResultReason.Canceled:\n",
    "        cancellation_details = speech_synthesis_result.cancellation_details\n",
    "        print('Speech synthesis canceled: {}'.format(cancellation_details.reason))\n",
    "        if cancellation_details.reason == speechsdk.CancellationReason.Error:\n",
    "            if cancellation_details.error_details:\n",
    "                print('Error details: {}'.format(cancellation_details.error_details))\n",
    "                print('Did you set the speech resource key and region values?')"
   ]
  },
  {
   "cell_type": "markdown",
   "id": "ebca3eb8",
   "metadata": {},
   "source": [
    "### Text-to-math"
   ]
  },
  {
   "cell_type": "code",
   "execution_count": 6,
   "id": "d42f595b",
   "metadata": {},
   "outputs": [],
   "source": [
    "def text_to_math(text):\n",
    "    mapping = {\n",
    "        'égale': '=',\n",
    "        'plus': '+',\n",
    "        'moins': '-',\n",
    "        'fois': '*',\n",
    "        'sur': '/',\n",
    "        'au': '',\n",
    "        'carré': '^ 2',\n",
    "        'cube': '^ 3',\n",
    "        'un': '1',\n",
    "    }\n",
    "    \n",
    "    text = text.translate(str.maketrans('', '', '.')) # Remove the '.' characters\n",
    "    L = text.split()\n",
    "    \n",
    "    for i, elem in enumerate(L):\n",
    "        if elem in mapping:\n",
    "            L[i] = mapping[elem]\n",
    "            \n",
    "    return ' '.join(filter(lambda x: x, L))"
   ]
  },
  {
   "cell_type": "markdown",
   "id": "6332907d",
   "metadata": {},
   "source": [
    "### Demo"
   ]
  },
  {
   "cell_type": "code",
   "execution_count": 7,
   "id": "c004fc21",
   "metadata": {},
   "outputs": [
    {
     "name": "stdout",
     "output_type": "stream",
     "text": [
      "> \n",
      "Speak into your microphone.\n",
      "Speech synthesized for text [3X+2 égale 5.]\n",
      "3X+2 = 5\n",
      "\n",
      "> \n",
      "Speak into your microphone.\n",
      "Speech synthesized for text [3X égale 5-2.]\n",
      "3X = 5-2\n",
      "\n",
      "> \n",
      "Speak into your microphone.\n",
      "Speech synthesized for text [3X égale 3.]\n",
      "3X = 3\n",
      "\n",
      "> \n",
      "Speak into your microphone.\n",
      "Speech synthesized for text [X égale un.]\n",
      "X = 1\n",
      "\n",
      "> e\n",
      "Speak into your microphone.\n",
      "Speech synthesized for text [X égale 3 sur 3.]\n",
      "X = 3 / 3\n",
      "\n",
      "> \n",
      "Speak into your microphone.\n",
      "Speech synthesized for text [X égale un.]\n",
      "X = 1\n",
      "\n",
      "> a\n",
      "3X+2 = 5\n",
      "3X = 5-2\n",
      "3X = 3\n",
      "X = 3 / 3\n",
      "X = 1\n",
      "\n",
      "> q\n"
     ]
    }
   ],
   "source": [
    "equations = []\n",
    "index = -1\n",
    "\n",
    "while True:\n",
    "    command = input('> ').strip()\n",
    "    if command == '':\n",
    "        text = speech_to_text()\n",
    "        math = text_to_math(text)\n",
    "        text_to_speech(text)\n",
    "        print(math)\n",
    "        equations.append(math)\n",
    "        index = len(equations) - 1\n",
    "    elif command == 'c': # [C]urrent\n",
    "        if equations:\n",
    "            print(equations[index])\n",
    "    elif command == 'a': # [A]ll\n",
    "        print(*equations, sep='\\n')\n",
    "    elif command == 'p': # [P]revious\n",
    "        index = max(0, index - 1)\n",
    "        if equations:\n",
    "            print(equations[index])\n",
    "    elif command == 'n': # [N]ext\n",
    "        index = min(index + 1, len(equations) - 1)\n",
    "        if equations:\n",
    "            print(equations[index])\n",
    "    elif command == 'e': # [E]dit\n",
    "        text = speech_to_text()\n",
    "        math = text_to_math(text)\n",
    "        text_to_speech(text)\n",
    "        print(math)\n",
    "        if equations:\n",
    "            equations[index] = math\n",
    "        else:\n",
    "            equations.append(math)\n",
    "    elif command == 'q': # [Q]uit\n",
    "        break\n",
    "    print()"
   ]
  }
 ],
 "metadata": {
  "kernelspec": {
   "display_name": "Python 3 (ipykernel)",
   "language": "python",
   "name": "python3"
  },
  "language_info": {
   "codemirror_mode": {
    "name": "ipython",
    "version": 3
   },
   "file_extension": ".py",
   "mimetype": "text/x-python",
   "name": "python",
   "nbconvert_exporter": "python",
   "pygments_lexer": "ipython3",
   "version": "3.10.9"
  }
 },
 "nbformat": 4,
 "nbformat_minor": 5
}
