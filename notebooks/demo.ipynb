{
 "cells": [
  {
   "cell_type": "markdown",
   "id": "3d761cb6",
   "metadata": {},
   "source": [
    "# Demo"
   ]
  },
  {
   "cell_type": "markdown",
   "id": "ee960b72",
   "metadata": {},
   "source": [
    "## Setup"
   ]
  },
  {
   "cell_type": "code",
   "execution_count": 1,
   "id": "4b552310",
   "metadata": {},
   "outputs": [],
   "source": [
    "# !pip install SpeechRecognition\n",
    "# !pip install PyAudio"
   ]
  },
  {
   "cell_type": "code",
   "execution_count": 2,
   "id": "b3c74665",
   "metadata": {},
   "outputs": [],
   "source": [
    "import speech_recognition as sr"
   ]
  },
  {
   "cell_type": "markdown",
   "id": "0084dc87",
   "metadata": {},
   "source": [
    "Define `AZURE_SPEECH_KEY`, `AZURE_SPEECH_REGION`, `LANGUAGE`, `SHORT_LANGUAGE`:"
   ]
  },
  {
   "cell_type": "code",
   "execution_count": 3,
   "id": "330ff309",
   "metadata": {},
   "outputs": [],
   "source": [
    "exec(open('../instance/config.py').read())"
   ]
  },
  {
   "cell_type": "markdown",
   "id": "63e13151",
   "metadata": {},
   "source": [
    "## Speech-to-text"
   ]
  },
  {
   "cell_type": "code",
   "execution_count": 4,
   "id": "f8274a1a",
   "metadata": {},
   "outputs": [],
   "source": [
    "def audio_from_microphone():\n",
    "    r = sr.Recognizer()\n",
    "    \n",
    "    with sr.Microphone() as source:\n",
    "        print('Speak into your microphone.')\n",
    "        audio = r.listen(source)\n",
    "    \n",
    "    return audio"
   ]
  },
  {
   "cell_type": "code",
   "execution_count": 5,
   "id": "d183fd5a",
   "metadata": {},
   "outputs": [],
   "source": [
    "def speech_to_text_google():\n",
    "    audio = audio_from_microphone()\n",
    "    r = sr.Recognizer()\n",
    "    \n",
    "    return r.recognize_google(audio, language=LANGUAGE)"
   ]
  },
  {
   "cell_type": "markdown",
   "id": "ebca3eb8",
   "metadata": {},
   "source": [
    "## Text-to-math (experimental)"
   ]
  },
  {
   "cell_type": "code",
   "execution_count": 6,
   "id": "d42f595b",
   "metadata": {},
   "outputs": [],
   "source": [
    "def text_to_math(text):\n",
    "    mapping = {\n",
    "        'égale': '=',\n",
    "        'plus': '+',\n",
    "        'moins': '-',\n",
    "        'fois': '*',\n",
    "        'sur': '/',\n",
    "        'au': '',\n",
    "        'carré': '^ 2',\n",
    "        'cube': '^ 3',\n",
    "    }\n",
    "    \n",
    "    text = text.translate(str.maketrans('', '', '.')) # Remove the '.' characters\n",
    "    L = text.split()\n",
    "    \n",
    "    for i, elem in enumerate(L):\n",
    "        if elem in mapping:\n",
    "            L[i] = mapping[elem]\n",
    "            \n",
    "    return ' '.join(filter(lambda x: x, L))"
   ]
  },
  {
   "cell_type": "markdown",
   "id": "6332907d",
   "metadata": {},
   "source": [
    "## Demo"
   ]
  },
  {
   "cell_type": "code",
   "execution_count": 7,
   "id": "2ac852d2",
   "metadata": {},
   "outputs": [
    {
     "name": "stdout",
     "output_type": "stream",
     "text": [
      "Speak into your microphone.\n"
     ]
    },
    {
     "data": {
      "text/plain": [
       "'2 fois X au carré + 3 = 5'"
      ]
     },
     "execution_count": 7,
     "metadata": {},
     "output_type": "execute_result"
    }
   ],
   "source": [
    "text = speech_to_text_google()\n",
    "text"
   ]
  },
  {
   "cell_type": "code",
   "execution_count": 8,
   "id": "a1315b2f",
   "metadata": {},
   "outputs": [
    {
     "data": {
      "text/plain": [
       "'2 * X ^ 2 + 3 = 5'"
      ]
     },
     "execution_count": 8,
     "metadata": {},
     "output_type": "execute_result"
    }
   ],
   "source": [
    "math = text_to_math(text)\n",
    "math"
   ]
  }
 ],
 "metadata": {
  "kernelspec": {
   "display_name": "Python 3 (ipykernel)",
   "language": "python",
   "name": "python3"
  },
  "language_info": {
   "codemirror_mode": {
    "name": "ipython",
    "version": 3
   },
   "file_extension": ".py",
   "mimetype": "text/x-python",
   "name": "python",
   "nbconvert_exporter": "python",
   "pygments_lexer": "ipython3",
   "version": "3.10.8"
  }
 },
 "nbformat": 4,
 "nbformat_minor": 5
}
