{
 "cells": [
  {
   "cell_type": "markdown",
   "id": "6beb0c99",
   "metadata": {},
   "source": [
    "# Database"
   ]
  },
  {
   "cell_type": "code",
   "execution_count": 1,
   "id": "8de9831b",
   "metadata": {},
   "outputs": [],
   "source": [
    "from sortedcontainers import SortedDict"
   ]
  },
  {
   "cell_type": "code",
   "execution_count": 2,
   "id": "446c1dbb",
   "metadata": {},
   "outputs": [],
   "source": [
    "items = [    \n",
    "    {'id': 1 , 'equation': 1, 'line': 1, 'block': 1, 'data': '3X'},\n",
    "    {'id': 2 , 'equation': 1, 'line': 1, 'block': 2, 'data': '+'},\n",
    "    {'id': 3 , 'equation': 1, 'line': 1, 'block': 3, 'data': '2'},\n",
    "    {'id': 4 , 'equation': 1, 'line': 1, 'block': 4, 'data': '='},\n",
    "    {'id': 5 , 'equation': 1, 'line': 1, 'block': 5, 'data': '5'},\n",
    "    {'id': 6 , 'equation': 1, 'line': 2, 'block': 1, 'data': '3X'},\n",
    "    {'id': 7 , 'equation': 1, 'line': 2, 'block': 2, 'data': '='},\n",
    "    {'id': 8 , 'equation': 1, 'line': 2, 'block': 3, 'data': '3'},\n",
    "    {'id': 9 , 'equation': 1, 'line': 3, 'block': 1, 'data': 'X'},\n",
    "    {'id': 10, 'equation': 1, 'line': 3, 'block': 2, 'data': '='},\n",
    "    {'id': 11, 'equation': 1, 'line': 3, 'block': 3, 'data': '1'},\n",
    "    {'id': 12, 'equation': 2, 'line': 1, 'block': 1, 'data': '2X ^ 2'},\n",
    "    {'id': 13, 'equation': 2, 'line': 1, 'block': 2, 'data': '='},\n",
    "    {'id': 14, 'equation': 2, 'line': 1, 'block': 3, 'data': '8'},\n",
    "    {'id': 15, 'equation': 2, 'line': 2, 'block': 1, 'data': 'X ^ 2'},\n",
    "    {'id': 16, 'equation': 2, 'line': 2, 'block': 2, 'data': '='},\n",
    "    {'id': 17, 'equation': 2, 'line': 2, 'block': 3, 'data': '4'},\n",
    "    {'id': 18, 'equation': 2, 'line': 3, 'block': 1, 'data': 'X'},\n",
    "    {'id': 19, 'equation': 2, 'line': 3, 'block': 2, 'data': '='},\n",
    "    {'id': 20, 'equation': 2, 'line': 3, 'block': 3, 'data': '2'},\n",
    "]"
   ]
  },
  {
   "cell_type": "code",
   "execution_count": 3,
   "id": "813bb3a0",
   "metadata": {},
   "outputs": [],
   "source": [
    "equations = SortedDict()\n",
    "\n",
    "for i in items:\n",
    "    equations[i['equation']] = equations.get(i['equation'], SortedDict())\n",
    "    equations[i['equation']][i['line']] = equations[i['equation']].get(i['line'], SortedDict())\n",
    "    equations[i['equation']][i['line']][i['block']] = i\n",
    "    \n",
    "# print(equations)"
   ]
  },
  {
   "cell_type": "code",
   "execution_count": 4,
   "id": "562b4906",
   "metadata": {},
   "outputs": [
    {
     "name": "stdout",
     "output_type": "stream",
     "text": [
      "Equation 1:\n",
      "1: 3X + 2 = 5 \n",
      "2: 3X = 3 \n",
      "3: X = 1 \n",
      "\n",
      "Equation 2:\n",
      "1: 2X ^ 2 = 8 \n",
      "2: X ^ 2 = 4 \n",
      "3: X = 2 \n",
      "\n"
     ]
    }
   ],
   "source": [
    "for i, equation in equations.items():\n",
    "    print(f'Equation {i}:')\n",
    "    for j, line in equation.items():\n",
    "        print(j, end=': ')\n",
    "        for block in line.values():\n",
    "            print(block['data'], end=' ')\n",
    "        print()\n",
    "    print()"
   ]
  }
 ],
 "metadata": {
  "kernelspec": {
   "display_name": "Python 3 (ipykernel)",
   "language": "python",
   "name": "python3"
  },
  "language_info": {
   "codemirror_mode": {
    "name": "ipython",
    "version": 3
   },
   "file_extension": ".py",
   "mimetype": "text/x-python",
   "name": "python",
   "nbconvert_exporter": "python",
   "pygments_lexer": "ipython3",
   "version": "3.10.9"
  }
 },
 "nbformat": 4,
 "nbformat_minor": 5
}
