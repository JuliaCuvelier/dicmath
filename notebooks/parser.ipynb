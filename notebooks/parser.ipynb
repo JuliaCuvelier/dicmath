{
 "cells": [
  {
   "cell_type": "markdown",
   "id": "881c6115",
   "metadata": {},
   "source": [
    "# Parser"
   ]
  },
  {
   "cell_type": "code",
   "execution_count": 1,
   "id": "3e659d58",
   "metadata": {},
   "outputs": [],
   "source": [
    "import re"
   ]
  },
  {
   "cell_type": "code",
   "execution_count": 2,
   "id": "4ec9954b",
   "metadata": {},
   "outputs": [],
   "source": [
    "eq = '2X ^ 2 + (X - 1) = 8X + 3'"
   ]
  },
  {
   "cell_type": "code",
   "execution_count": 3,
   "id": "367834c5",
   "metadata": {},
   "outputs": [],
   "source": [
    "def parse(text):        \n",
    "    L = re.split('(=|\\+|\\-|\\(|\\))', text)\n",
    "\n",
    "    count, temp, result = 0, '', []\n",
    "\n",
    "    for elem in L:\n",
    "\n",
    "        if elem == '(':\n",
    "            count += 1\n",
    "  \n",
    "        if elem == ')':\n",
    "            count -= 1\n",
    "\n",
    "        temp = f'{temp}{elem}'\n",
    "\n",
    "        if count == 0:\n",
    "            result.append(temp.strip())\n",
    "            temp = ''\n",
    "\n",
    "    result = list(filter(lambda x: x, result))\n",
    "\n",
    "    return result"
   ]
  },
  {
   "cell_type": "code",
   "execution_count": 4,
   "id": "1eda6d06",
   "metadata": {},
   "outputs": [
    {
     "data": {
      "text/plain": [
       "['2X ^ 2', '+', '(X - 1)', '=', '8X', '+', '3']"
      ]
     },
     "execution_count": 4,
     "metadata": {},
     "output_type": "execute_result"
    }
   ],
   "source": [
    "blocks = parse(eq)\n",
    "blocks"
   ]
  }
 ],
 "metadata": {
  "kernelspec": {
   "display_name": "Python 3 (ipykernel)",
   "language": "python",
   "name": "python3"
  },
  "language_info": {
   "codemirror_mode": {
    "name": "ipython",
    "version": 3
   },
   "file_extension": ".py",
   "mimetype": "text/x-python",
   "name": "python",
   "nbconvert_exporter": "python",
   "pygments_lexer": "ipython3",
   "version": "3.10.9"
  }
 },
 "nbformat": 4,
 "nbformat_minor": 5
}
